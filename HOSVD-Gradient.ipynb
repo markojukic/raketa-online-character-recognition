{
 "cells": [
  {
   "cell_type": "code",
   "execution_count": 8,
   "id": "exotic-equality",
   "metadata": {},
   "outputs": [],
   "source": [
    "import matplotlib.pyplot as plt\n",
    "import numpy as np\n",
    "import ujipenchars2\n",
    "import string\n",
    "from preprocessing import DrawingToBoxScaler, VideoCreator, GradientCreator, create_gradient"
   ]
  },
  {
   "cell_type": "code",
   "execution_count": 9,
   "id": "wrapped-westminster",
   "metadata": {},
   "outputs": [],
   "source": [
    "train, test = ujipenchars2.Parser('data/ujipenchars2').parse(string.digits)\n",
    "\n",
    "drawing_scaler = DrawingToBoxScaler(0, 1, 0, 1)\n",
    "train = drawing_scaler.transform(train)\n",
    "test = drawing_scaler.transform(test)\n",
    "\n",
    "data = train + test\n",
    "train_idx = np.array(range(len(train)))\n",
    "test_idx = np.array(range(len(train), len(data)))\n",
    "labels = np.array([int(drawing.label) for drawing in data], dtype=np.int8)"
   ]
  },
  {
   "cell_type": "code",
   "execution_count": 10,
   "id": "functional-final",
   "metadata": {},
   "outputs": [],
   "source": [
    "def plot_images(images: np.ndarray):\n",
    "    n = len(images)\n",
    "    plt.figure(figsize=(3*n, 3))\n",
    "\n",
    "    for i in range(n):\n",
    "        plt.subplot(1, n, i + 1)\n",
    "        plt.imshow(images[i], cmap=\"binary\", vmin=0, vmax=255)\n",
    "        axes = plt.gca().axes\n",
    "        axes.xaxis.set_ticks([])\n",
    "        axes.yaxis.set_ticks([])\n",
    "\n",
    "    plt.show()"
   ]
  },
  {
   "cell_type": "code",
   "execution_count": 91,
   "id": "governing-female",
   "metadata": {},
   "outputs": [],
   "source": [
    "import tensorly as tl\n",
    "from tensorly.decomposition import tucker\n",
    "import pandas as pd\n",
    "from math import prod\n",
    "\n",
    "# Prva dimenzija od X mora biti veličina skupa podataka\n",
    "class HOSVDClassifier:\n",
    "    def __init__(self):\n",
    "        self.labels = None\n",
    "        self.A = []\n",
    "        self.k = None\n",
    "        self.cores = []\n",
    "\n",
    "    def fit(self, X: np.ndarray, y: np.ndarray):\n",
    "        X = X.astype(np.float64)\n",
    "        assert X.shape[0] == y.shape[0]\n",
    "        self.labels, inverse = np.unique(y, return_inverse=True)\n",
    "        self.k = len(self.labels)\n",
    "        for i in range(self.k):\n",
    "            # Tenzor za fiksni label\n",
    "            tensor = X[inverse == i]\n",
    "            n = tensor.shape[0]\n",
    "            rank = (min(n, prod(tensor.shape[1:])),) + tensor.shape[1:] # Odrežemo prvu dimenziju\n",
    "            core, factors = tl.decomposition.tucker(tensor, rank=rank) # HOSVD dekompozicija\n",
    "            self.cores.append(core)\n",
    "            A = tl.tenalg.multi_mode_dot(core, factors, skip=0) # Tenzor sa svim A-ovima\n",
    "            norms = tl.norm(A, axis=tuple(range(1, A.ndim))) # Norme A-ova\n",
    "            A /= norms[(slice(None),) + (None,)*(A.ndim - 1)] # Normiramo A-ove\n",
    "            self.A.append(A)\n",
    "\n",
    "    def predict(self, X: np.ndarray) -> np.ndarray:\n",
    "        X = X.astype(np.float64)\n",
    "        n = X.shape[0]\n",
    "        squared_projection_norms = np.empty((n, self.k), dtype=np.float64) # Kvadrati normi projekcija na A-ove\n",
    "        for i in range(n):\n",
    "            Z = X[i]\n",
    "            for j in range(self.k):\n",
    "                squared_projection_norms[i, j] = (tl.tenalg.inner(self.A[j], Z, Z.ndim)**2).sum()\n",
    "        return self.labels[squared_projection_norms.argmax(axis=1)]\n",
    "\n",
    "    def score(self, X: np.ndarray, y: np.ndarray) -> float:\n",
    "        return sum(self.predict(X) == y) / X.shape[0]"
   ]
  },
  {
   "cell_type": "code",
   "execution_count": 92,
   "id": "massive-crazy",
   "metadata": {},
   "outputs": [
    {
     "data": {
      "image/png": "[encoded data removed]",
      "text/plain": [
       "<Figure size 648x216 with 3 Axes>"
      ]
     },
     "metadata": {},
     "output_type": "display_data"
    }
   ],
   "source": [
    "# Primjer izrade gradijenta\n",
    "gradient_creator = GradientCreator(\n",
    "    gradients = [\n",
    "        create_gradient([(0, 0), (1, 255)], 100), # bijela -> crna\n",
    "        create_gradient([(0, 255), (1, 0)], 100), # crna -> bijela\n",
    "        create_gradient([(0, 0), (0.5, 255), (1, 0)], 100), # bijela -> crna -> bijela\n",
    "    ],\n",
    "    clip=(-0.15, 1.15, -0.15, 1.15),\n",
    "    size=(20, 20),\n",
    "    blur_radius=1,\n",
    ")\n",
    "plot_images(gradient_creator.transform_one(data[8]))"
   ]
  },
  {
   "cell_type": "code",
   "execution_count": 93,
   "id": "nonprofit-dressing",
   "metadata": {},
   "outputs": [
    {
     "name": "stdout",
     "output_type": "stream",
     "text": [
      "CPU times: user 143 ms, sys: 145 ms, total: 288 ms\n",
      "Wall time: 878 ms\n"
     ]
    }
   ],
   "source": [
    "%%time\n",
    "gradients = gradient_creator.transform(data)"
   ]
  },
  {
   "cell_type": "code",
   "execution_count": 94,
   "id": "diverse-compiler",
   "metadata": {},
   "outputs": [
    {
     "name": "stdout",
     "output_type": "stream",
     "text": [
      "CPU times: user 16.4 s, sys: 40.1 s, total: 56.5 s\n",
      "Wall time: 3.59 s\n"
     ]
    },
    {
     "data": {
      "text/plain": [
       "0.9725"
      ]
     },
     "execution_count": 94,
     "metadata": {},
     "output_type": "execute_result"
    }
   ],
   "source": [
    "%%time\n",
    "cls = HOSVDClassifier()\n",
    "cls.fit(gradients[train_idx], labels[train_idx])\n",
    "cls.score(gradients[test_idx], labels[test_idx])"
   ]
  }
 ],
 "metadata": {
  "kernelspec": {
   "display_name": "Python 3",
   "language": "python",
   "name": "python3"
  },
  "language_info": {
   "codemirror_mode": {
    "name": "ipython",
    "version": 3
   },
   "file_extension": ".py",
   "mimetype": "text/x-python",
   "name": "python",
   "nbconvert_exporter": "python",
   "pygments_lexer": "ipython3",
   "version": "3.9.1"
  }
 },
 "nbformat": 4,
 "nbformat_minor": 5
}
