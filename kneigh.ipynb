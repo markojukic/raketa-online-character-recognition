{
 "cells": [
  {
   "cell_type": "code",
   "execution_count": 1,
   "id": "expressed-banking",
   "metadata": {},
   "outputs": [
    {
     "name": "stdout",
     "output_type": "stream",
     "text": [
      "3.9.1\n"
     ]
    }
   ],
   "source": [
    "import matplotlib.pyplot as plt\n",
    "import numpy as np\n",
    "import ujipenchars2\n",
    "from drawing import Drawing\n",
    "from preprocessing import DrawingToBoxScaler, DrawingResampler\n",
    "from dtw import dtw_distance_matrix\n",
    "from sklearn.neighbors import KNeighborsClassifier\n",
    "from joblib import dump\n",
    "from platform import python_version\n",
    "import string\n",
    "\n",
    "print(python_version())"
   ]
  },
  {
   "cell_type": "code",
   "execution_count": 2,
   "id": "crude-mobile",
   "metadata": {},
   "outputs": [],
   "source": [
    "train, test = ujipenchars2.Parser('data/ujipenchars2').parse(string.digits)\n",
    "data = train + test\n",
    "train_idx = np.array(range(len(train)))\n",
    "test_idx = np.array(range(len(train), len(data)))\n",
    "labels = np.array([drawing.label for drawing in data])\n",
    "\n",
    "drawing_scaler = DrawingToBoxScaler(0, 1, 0, 1)\n",
    "data = drawing_scaler.transform(data)\n",
    "\n",
    "drawing_resampler = DrawingResampler(50)\n",
    "data = drawing_resampler.transform(data)\n",
    "\n",
    "stacked_data = np.stack([np.vstack(drawing.strokes) for drawing in data])\n",
    "\n",
    "D = dtw_distance_matrix(stacked_data, stacked_data[train_idx])"
   ]
  },
  {
   "cell_type": "code",
   "execution_count": 3,
   "id": "engaged-current",
   "metadata": {},
   "outputs": [],
   "source": [
    "def plot_drawings(drawings: list[Drawing], ncols=2,):\n",
    "    n = len(drawings)\n",
    "    nrows = int(np.ceil(n / ncols))\n",
    "    fig, axes = plt.subplots(nrows, ncols, sharex=True)\n",
    "    k = 0\n",
    "    for i in range(nrows):\n",
    "        for j in range(ncols):\n",
    "            drawing = drawings[k]\n",
    "            plt.title(drawing.label)\n",
    "            for stroke in drawing.strokes:\n",
    "                axes[i, j].plot(stroke[:,0], stroke[:,1], color='black', linewidth=1, solid_capstyle='round')\n",
    "            plt.axis('scaled')\n",
    "            k += 1"
   ]
  },
  {
   "cell_type": "code",
   "execution_count": 4,
   "id": "after-lying",
   "metadata": {},
   "outputs": [
    {
     "name": "stdout",
     "output_type": "stream",
     "text": [
      "1 99.625\n",
      "2 99.625\n",
      "3 99.25\n",
      "4 99.125\n",
      "5 98.625\n",
      "6 98.875\n",
      "7 98.75\n",
      "8 98.75\n",
      "9 98.75\n",
      "10 98.75\n",
      "11 98.375\n",
      "12 98.375\n",
      "13 98.25\n",
      "14 98.25\n",
      "15 98.125\n",
      "16 98.0\n",
      "17 97.875\n",
      "18 97.625\n",
      "19 97.625\n",
      "Best: k = 1\n"
     ]
    }
   ],
   "source": [
    "np.fill_diagonal(D, 2*np.max(D))\n",
    "def findK(D, train, labels):\n",
    "    n = len(train)\n",
    "    maxScore = 0\n",
    "    bestK = 0\n",
    "    for k in range(1, 20):\n",
    "        knn = KNeighborsClassifier(n_neighbors=k, weights='distance', algorithm='brute', metric='precomputed')\n",
    "        knn.fit(D[:n, :n], labels[:n]) #train data, train data\n",
    "        score = knn.score(D[:n, :n], labels[:n])*100 #test data, train data\n",
    "        print(k, score)\n",
    "        if score > maxScore:\n",
    "            maxScore = score\n",
    "            bestK = k\n",
    "    return bestK\n",
    "\n",
    "bestK = findK(D, train, labels)\n",
    "print('Best: k =', bestK)"
   ]
  },
  {
   "cell_type": "code",
   "execution_count": 5,
   "id": "martial-affiliate",
   "metadata": {},
   "outputs": [],
   "source": [
    "def knn(D, train, test, labels, k=bestK):\n",
    "    n = len(train)\n",
    "    m = len(test)\n",
    "    knn = KNeighborsClassifier(n_neighbors=k, weights='distance', algorithm='brute', metric='precomputed')\n",
    "    knn.fit(D[:n, :n], labels[:n]) #train data, train data\n",
    "    predict = knn.predict(D[n:, :n]) #test data, train data\n",
    "    wrong_indices = []\n",
    "    for i in range(m):\n",
    "        if predict[i] != labels[i]:\n",
    "            wrong_indices.append(i)\n",
    "    score = knn.score(D[n:, :n], labels[n:])*100 #test data, train data\n",
    "    return wrong_indices, score"
   ]
  },
  {
   "cell_type": "code",
   "execution_count": 6,
   "id": "emotional-groove",
   "metadata": {},
   "outputs": [
    {
     "name": "stdout",
     "output_type": "stream",
     "text": [
      "k =  1 , score =  98.0\n",
      "[20, 21, 36, 37, 239, 273, 318, 348]\n"
     ]
    },
    {
     "data": {
      "image/png": "[encoded data removed]",
      "text/plain": [
       "<Figure size 432x288 with 8 Axes>"
      ]
     },
     "metadata": {
      "needs_background": "light"
     },
     "output_type": "display_data"
    }
   ],
   "source": [
    "k = bestK\n",
    "wrong_indices, score = knn(D, train, test, labels, k)\n",
    "print(\"k = \", k, \", score = \", score)\n",
    "print(wrong_indices)\n",
    "wrong_drawings = [train[i] for i in wrong_indices]\n",
    "plot_drawings(wrong_drawings, ncols=4)"
   ]
  }
 ],
 "metadata": {
  "kernelspec": {
   "display_name": "Python 3",
   "language": "python",
   "name": "python3"
  },
  "language_info": {
   "codemirror_mode": {
    "name": "ipython",
    "version": 3
   },
   "file_extension": ".py",
   "mimetype": "text/x-python",
   "name": "python",
   "nbconvert_exporter": "python",
   "pygments_lexer": "ipython3",
   "version": "3.9.1"
  }
 },
 "nbformat": 4,
 "nbformat_minor": 5
}
