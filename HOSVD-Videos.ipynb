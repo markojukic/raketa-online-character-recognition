{
 "cells": [
  {
   "cell_type": "code",
   "execution_count": 1,
   "id": "exotic-equality",
   "metadata": {},
   "outputs": [],
   "source": [
    "import matplotlib.pyplot as plt\n",
    "import numpy as np\n",
    "import ujipenchars2\n",
    "import string\n",
    "from preprocessing import DrawingToBoxScaler, VideoCreator, GradientCreator, create_gradient"
   ]
  },
  {
   "cell_type": "code",
   "execution_count": 2,
   "id": "wrapped-westminster",
   "metadata": {},
   "outputs": [],
   "source": [
    "train, test = ujipenchars2.Parser('data/ujipenchars2').parse(string.digits)\n",
    "\n",
    "drawing_scaler = DrawingToBoxScaler(0, 1, 0, 1)\n",
    "train = drawing_scaler.transform(train)\n",
    "test = drawing_scaler.transform(test)\n",
    "\n",
    "data = train + test\n",
    "train_idx = np.array(range(len(train)))\n",
    "test_idx = np.array(range(len(train), len(data)))\n",
    "labels = np.array([int(drawing.label) for drawing in data], dtype=np.int8)"
   ]
  },
  {
   "cell_type": "code",
   "execution_count": 3,
   "id": "mounted-chase",
   "metadata": {},
   "outputs": [],
   "source": [
    "def plot_images(images: np.ndarray):\n",
    "    n = len(images)\n",
    "    plt.figure(figsize=(3*n, 3))\n",
    "\n",
    "    for i in range(n):\n",
    "        plt.subplot(1, n, i + 1)\n",
    "        plt.imshow(images[i], cmap=\"binary\", vmin=0, vmax=255)\n",
    "        axes = plt.gca().axes\n",
    "        axes.xaxis.set_ticks([])\n",
    "        axes.yaxis.set_ticks([])\n",
    "\n",
    "    plt.show()"
   ]
  },
  {
   "cell_type": "code",
   "execution_count": 4,
   "id": "governing-female",
   "metadata": {},
   "outputs": [],
   "source": [
    "import tensorly as tl\n",
    "from tensorly.decomposition import tucker\n",
    "import pandas as pd\n",
    "from math import prod\n",
    "\n",
    "# Prva dimenzija od X mora biti veličina skupa podataka\n",
    "class HOSVDClassifier:\n",
    "    def __init__(self):\n",
    "        self.labels = None\n",
    "        self.A = []\n",
    "        self.k = None\n",
    "        pass\n",
    "    def fit(self, X: np.ndarray, y: np.ndarray):\n",
    "        X = X.astype(np.float64)\n",
    "        assert X.shape[0] == y.shape[0]\n",
    "        self.labels, inverse = np.unique(y, return_inverse=True)\n",
    "        self.k = len(self.labels)\n",
    "        for i in range(self.k):\n",
    "            # Tenzor za fiksni label\n",
    "            tensor = X[inverse == i]\n",
    "            n = tensor.shape[0]\n",
    "            rank = (min(n, prod(tensor.shape[1:])),) + tensor.shape[1:] # Odrežemo prvu dimenziju\n",
    "            core, factors = tl.decomposition.tucker(tensor, rank=rank)\n",
    "            A = [] # A-ovi iz dekompozicije tenzora\n",
    "            for i in range(n):\n",
    "                a = tl.tenalg.multi_mode_dot(core[i], factors[1:])\n",
    "                A.append(a / tl.norm(a))\n",
    "            self.A.append(A)\n",
    "\n",
    "    def predict(self, X: np.ndarray) -> np.ndarray:\n",
    "        X = X.astype(np.float64)\n",
    "        n = X.shape[0]\n",
    "        squared_projection_norms = np.empty((n, self.k), dtype=np.float64) # Kvadrati normi projekcija na A-ove\n",
    "        for i in range(n):\n",
    "            Z = X[i]\n",
    "            for j in range(self.k):\n",
    "                squared_projection_norms[i, j] = sum(tl.tenalg.inner(Z, A)**2 for A in self.A[j])\n",
    "        return self.labels[squared_projection_norms.argmax(axis=1)]\n",
    "\n",
    "    def score(self, X: np.ndarray, y: np.ndarray) -> float:\n",
    "        return sum(self.predict(X) == y) / X.shape[0]"
   ]
  },
  {
   "cell_type": "markdown",
   "id": "junior-background",
   "metadata": {},
   "source": [
    "# HOSVD za videe"
   ]
  },
  {
   "cell_type": "code",
   "execution_count": 5,
   "id": "classical-dover",
   "metadata": {},
   "outputs": [
    {
     "data": {
      "image/png": "[encoded data removed]",
      "text/plain": [
       "<Figure size 1080x216 with 5 Axes>"
      ]
     },
     "metadata": {},
     "output_type": "display_data"
    }
   ],
   "source": [
    "# Primjer izrade videa\n",
    "video_creator = VideoCreator(n=5, clip=(-0.15, 1.15, -0.15, 1.15), size=(20, 20))\n",
    "plot_images(video_creator.transform_one(data[8]))"
   ]
  },
  {
   "cell_type": "code",
   "execution_count": 6,
   "id": "nonprofit-dressing",
   "metadata": {},
   "outputs": [
    {
     "name": "stdout",
     "output_type": "stream",
     "text": [
      "CPU times: user 131 ms, sys: 80.1 ms, total: 211 ms\n",
      "Wall time: 597 ms\n"
     ]
    }
   ],
   "source": [
    "%%time\n",
    "videos = video_creator.transform(data)"
   ]
  },
  {
   "cell_type": "code",
   "execution_count": 7,
   "id": "visible-latin",
   "metadata": {},
   "outputs": [
    {
     "name": "stdout",
     "output_type": "stream",
     "text": [
      "CPU times: user 18 s, sys: 32.9 s, total: 50.9 s\n",
      "Wall time: 6.27 s\n"
     ]
    },
    {
     "data": {
      "text/plain": [
       "0.96"
      ]
     },
     "execution_count": 7,
     "metadata": {},
     "output_type": "execute_result"
    }
   ],
   "source": [
    "%%time\n",
    "cls = HOSVDClassifier()\n",
    "cls.fit(videos[train_idx], labels[train_idx])\n",
    "cls.score(videos[test_idx], labels[test_idx])"
   ]
  },
  {
   "cell_type": "markdown",
   "id": "protective-seating",
   "metadata": {},
   "source": [
    "# HOSVD za slike"
   ]
  },
  {
   "cell_type": "code",
   "execution_count": 8,
   "id": "operational-adoption",
   "metadata": {},
   "outputs": [
    {
     "data": {
      "image/png": "[encoded data removed]",
      "text/plain": [
       "<Figure size 216x216 with 1 Axes>"
      ]
     },
     "metadata": {},
     "output_type": "display_data"
    }
   ],
   "source": [
    "# Primjer izrade slika\n",
    "image_creator = VideoCreator(n=1, clip=(-0.15, 1.15, -0.15, 1.15), size=(20, 20))\n",
    "plot_images(image_creator.transform_one(data[8]))"
   ]
  },
  {
   "cell_type": "code",
   "execution_count": 9,
   "id": "neither-valley",
   "metadata": {},
   "outputs": [
    {
     "name": "stdout",
     "output_type": "stream",
     "text": [
      "CPU times: user 69.8 ms, sys: 82.3 ms, total: 152 ms\n",
      "Wall time: 250 ms\n"
     ]
    }
   ],
   "source": [
    "%%time\n",
    "images = image_creator.transform(data)"
   ]
  },
  {
   "cell_type": "code",
   "execution_count": 10,
   "id": "animated-bumper",
   "metadata": {},
   "outputs": [
    {
     "name": "stdout",
     "output_type": "stream",
     "text": [
      "CPU times: user 9.5 s, sys: 18.9 s, total: 28.4 s\n",
      "Wall time: 3.81 s\n"
     ]
    },
    {
     "data": {
      "text/plain": [
       "0.9025"
      ]
     },
     "execution_count": 10,
     "metadata": {},
     "output_type": "execute_result"
    }
   ],
   "source": [
    "%%time\n",
    "cls = HOSVDClassifier()\n",
    "cls.fit(images[train_idx], labels[train_idx])\n",
    "cls.score(images[test_idx], labels[test_idx])"
   ]
  }
 ],
 "metadata": {
  "kernelspec": {
   "display_name": "Python 3",
   "language": "python",
   "name": "python3"
  },
  "language_info": {
   "codemirror_mode": {
    "name": "ipython",
    "version": 3
   },
   "file_extension": ".py",
   "mimetype": "text/x-python",
   "name": "python",
   "nbconvert_exporter": "python",
   "pygments_lexer": "ipython3",
   "version": "3.9.1"
  }
 },
 "nbformat": 4,
 "nbformat_minor": 5
}
