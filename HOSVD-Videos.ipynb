{
 "cells": [
  {
   "cell_type": "code",
   "execution_count": 1,
   "id": "exotic-equality",
   "metadata": {},
   "outputs": [],
   "source": [
    "import matplotlib.pyplot as plt\n",
    "import numpy as np\n",
    "import ujipenchars2\n",
    "import string\n",
    "from preprocessing import DrawingToBoxScaler, VideoCreator, GradientCreator, create_gradient"
   ]
  },
  {
   "cell_type": "code",
   "execution_count": 2,
   "id": "wrapped-westminster",
   "metadata": {},
   "outputs": [],
   "source": [
    "train, test = ujipenchars2.Parser('data/ujipenchars2').parse(string.digits)\n",
    "\n",
    "drawing_scaler = DrawingToBoxScaler(0, 1, 0, 1)\n",
    "train = drawing_scaler.transform(train)\n",
    "test = drawing_scaler.transform(test)\n",
    "\n",
    "data = train + test\n",
    "train_idx = np.array(range(len(train)))\n",
    "test_idx = np.array(range(len(train), len(data)))\n",
    "labels = np.array([int(drawing.label) for drawing in data], dtype=np.int8)"
   ]
  },
  {
   "cell_type": "code",
   "execution_count": 3,
   "id": "mounted-chase",
   "metadata": {},
   "outputs": [],
   "source": [
    "def plot_images(images: np.ndarray):\n",
    "    n = len(images)\n",
    "    plt.figure(figsize=(3*n, 3))\n",
    "\n",
    "    for i in range(n):\n",
    "        plt.subplot(1, n, i + 1)\n",
    "        plt.imshow(images[i], cmap=\"binary\", vmin=0, vmax=255)\n",
    "        axes = plt.gca().axes\n",
    "        axes.xaxis.set_ticks([])\n",
    "        axes.yaxis.set_ticks([])\n",
    "\n",
    "    plt.show()"
   ]
  },
  {
   "cell_type": "code",
   "execution_count": 4,
   "id": "governing-female",
   "metadata": {},
   "outputs": [],
   "source": [
    "import tensorly as tl\n",
    "from tensorly.decomposition import tucker\n",
    "import pandas as pd\n",
    "from math import prod\n",
    "\n",
    "# Prva dimenzija od X mora biti veličina skupa podataka.\n",
    "#   cuts - granice normi za rezanje dimenzija matrice S u različitimo modovima (i matrica U)\n",
    "class HOSVDClassifier:\n",
    "    def __init__(self, cuts=None):\n",
    "        self.labels = None  # Svi labeli\n",
    "        self.A = []  # Ortonormirani tenzori iz dekompozicije složeni u 1 tenzor za svaki label\n",
    "        self.k = None  # Broj labela\n",
    "        self.cores = []  # S-ovi iz dekompozicije tenzora\n",
    "        self.shape = None  # Dimenzije pojedinih podataka\n",
    "        self.cuts = cuts\n",
    "\n",
    "    def fit(self, X: np.ndarray, y: np.ndarray):\n",
    "        assert X.shape[0] == y.shape[0]\n",
    "        X = X.astype(np.float64)\n",
    "        self.shape = X.shape[1:]\n",
    "        self.labels, inverse = np.unique(y, return_inverse=True)\n",
    "        self.k = len(self.labels)\n",
    "        for i in range(self.k):\n",
    "            # Tenzor za fiksni label\n",
    "            tensor = X[inverse == i]\n",
    "            n = tensor.shape[0]\n",
    "            rank = (min(n, prod(self.shape)),) + self.shape # Odrežemo prvu dimenziju\n",
    "            core, factors = tl.decomposition.tucker(tensor, rank=rank) # HOSVD dekompozicija\n",
    "            self.cores.append(core)\n",
    "\n",
    "            # Rezanje\n",
    "            if self.cuts is not None:\n",
    "                assert core.ndim == len(self.cuts)\n",
    "                core_shape_new = self.new_shape(core)\n",
    "                for i in range(core.ndim):\n",
    "                    factors[i] = factors[i][:core.shape[i], :core_shape_new[i]]\n",
    "                core = core[tuple(slice(i) for i in core_shape_new)]\n",
    "\n",
    "            A = tl.tenalg.multi_mode_dot(core, factors, skip=0) # Tenzor sa svim A-ovima\n",
    "            norms = tl.norm(A, axis=tuple(range(1, A.ndim))) # Norme A-ova\n",
    "            A /= norms[(slice(None),) + (None,)*(A.ndim - 1)] # Normiramo A-ove\n",
    "            self.A.append(A)\n",
    "\n",
    "    def predict(self, X: np.ndarray) -> np.ndarray:\n",
    "        X = X.astype(np.float64)\n",
    "        n = X.shape[0]\n",
    "        squared_projection_norms = np.empty((n, self.k), dtype=np.float64) # Kvadrati normi projekcija na A-ove\n",
    "        for i in range(n):\n",
    "            Z = X[i]\n",
    "            for j in range(self.k):\n",
    "                squared_projection_norms[i, j] = (tl.tenalg.inner(self.A[j], Z, Z.ndim)**2).sum()\n",
    "        return self.labels[squared_projection_norms.argmax(axis=1)]\n",
    "\n",
    "    def score(self, X: np.ndarray, y: np.ndarray) -> float:\n",
    "        return sum(self.predict(X) == y) / X.shape[0]\n",
    "\n",
    "    def norms(self, S, mod):\n",
    "        axis = tuple(range(mod)) + tuple(range(mod + 1, S.ndim))\n",
    "        return tl.norm(S, axis=axis)\n",
    "\n",
    "    def new_shape(self, core):\n",
    "        shape = list(core.shape)\n",
    "        for i in range(core.ndim):\n",
    "            norms = self.norms(core, i)\n",
    "            if norms[-1] < self.cuts[i]:\n",
    "                shape[i] = np.argmax(norms < self.cuts[i])\n",
    "        return tuple(shape)\n",
    "\n",
    "    def plot_cuts(self):\n",
    "        ndim = len(self.shape) + 1\n",
    "        nrow = (ndim + 1) // 2\n",
    "        plt.figure(figsize=(14, 6*nrow))\n",
    "        plt.suptitle('Norme odsječaka jezgrenih tenzora u različitim modovima', fontsize=20)\n",
    "        for mod in range(0, ndim):\n",
    "            plt.subplot(nrow, 2, mod + 1)\n",
    "            plt.title(f'Mod {mod}')\n",
    "            for label in range(self.k):\n",
    "                for i in range(self.cores[label].shape[mod]):\n",
    "                    plt.semilogy(self.norms(self.cores[label], mod), color='black')\n",
    "            if self.cuts is not None:\n",
    "                ylim = plt.ylim()\n",
    "                plt.axhline(self.cuts[mod], color='red')\n",
    "                plt.ylim(ylim)\n",
    "        plt.show()"
   ]
  },
  {
   "cell_type": "markdown",
   "id": "junior-background",
   "metadata": {},
   "source": [
    "# HOSVD za videe"
   ]
  },
  {
   "cell_type": "code",
   "execution_count": 5,
   "id": "classical-dover",
   "metadata": {},
   "outputs": [
    {
     "data": {
      "image/png": "[encoded data removed]",
      "text/plain": [
       "<Figure size 1080x216 with 5 Axes>"
      ]
     },
     "metadata": {},
     "output_type": "display_data"
    }
   ],
   "source": [
    "# Primjer izrade videa\n",
    "video_creator = VideoCreator(n=5, clip=(-0.15, 1.15, -0.15, 1.15), size=(20, 20))\n",
    "plot_images(video_creator.transform_one(data[8]))"
   ]
  },
  {
   "cell_type": "code",
   "execution_count": 6,
   "id": "nonprofit-dressing",
   "metadata": {},
   "outputs": [
    {
     "name": "stdout",
     "output_type": "stream",
     "text": [
      "CPU times: user 152 ms, sys: 79.5 ms, total: 232 ms\n",
      "Wall time: 667 ms\n"
     ]
    }
   ],
   "source": [
    "%%time\n",
    "videos = video_creator.transform(data)"
   ]
  },
  {
   "cell_type": "code",
   "execution_count": 7,
   "id": "visible-latin",
   "metadata": {},
   "outputs": [
    {
     "name": "stdout",
     "output_type": "stream",
     "text": [
      "CPU times: user 30.4 s, sys: 1min 22s, total: 1min 53s\n",
      "Wall time: 7.54 s\n"
     ]
    },
    {
     "data": {
      "text/plain": [
       "0.96"
      ]
     },
     "execution_count": 7,
     "metadata": {},
     "output_type": "execute_result"
    }
   ],
   "source": [
    "%%time\n",
    "cls = HOSVDClassifier()\n",
    "cls.fit(videos[train_idx], labels[train_idx])\n",
    "cls.score(videos[test_idx], labels[test_idx])"
   ]
  },
  {
   "cell_type": "markdown",
   "id": "protective-seating",
   "metadata": {},
   "source": [
    "# HOSVD za slike"
   ]
  },
  {
   "cell_type": "code",
   "execution_count": 8,
   "id": "operational-adoption",
   "metadata": {},
   "outputs": [
    {
     "data": {
      "image/png": "[encoded data removed]",
      "text/plain": [
       "<Figure size 216x216 with 1 Axes>"
      ]
     },
     "metadata": {},
     "output_type": "display_data"
    }
   ],
   "source": [
    "# Primjer izrade slika\n",
    "image_creator = VideoCreator(n=1, clip=(-0.15, 1.15, -0.15, 1.15), size=(20, 20))\n",
    "plot_images(image_creator.transform_one(data[8]))"
   ]
  },
  {
   "cell_type": "code",
   "execution_count": 9,
   "id": "neither-valley",
   "metadata": {},
   "outputs": [
    {
     "name": "stdout",
     "output_type": "stream",
     "text": [
      "CPU times: user 71.3 ms, sys: 118 ms, total: 189 ms\n",
      "Wall time: 283 ms\n"
     ]
    }
   ],
   "source": [
    "%%time\n",
    "images = image_creator.transform(data)"
   ]
  },
  {
   "cell_type": "code",
   "execution_count": 10,
   "id": "animated-bumper",
   "metadata": {},
   "outputs": [
    {
     "name": "stdout",
     "output_type": "stream",
     "text": [
      "CPU times: user 9.15 s, sys: 26.7 s, total: 35.9 s\n",
      "Wall time: 2.49 s\n"
     ]
    },
    {
     "data": {
      "text/plain": [
       "0.9025"
      ]
     },
     "execution_count": 10,
     "metadata": {},
     "output_type": "execute_result"
    }
   ],
   "source": [
    "%%time\n",
    "cls = HOSVDClassifier()\n",
    "cls.fit(images[train_idx], labels[train_idx])\n",
    "cls.score(images[test_idx], labels[test_idx])"
   ]
  },
  {
   "cell_type": "markdown",
   "id": "dependent-failure",
   "metadata": {},
   "source": [
    "# HOSVD za MNIST"
   ]
  },
  {
   "cell_type": "code",
   "execution_count": 11,
   "id": "eight-minute",
   "metadata": {},
   "outputs": [],
   "source": [
    "from sklearn.datasets import fetch_openml\n",
    "from sklearn.model_selection import train_test_split\n",
    "\n",
    "X, y = fetch_openml('mnist_784', version=1, return_X_y=True, as_frame=False)\n",
    "X = X.reshape((-1,  28, 28))\n",
    "y = y.astype(np.int8)"
   ]
  },
  {
   "cell_type": "code",
   "execution_count": 12,
   "id": "disabled-jacksonville",
   "metadata": {},
   "outputs": [
    {
     "data": {
      "image/png": "[encoded data removed]",
      "text/plain": [
       "<Figure size 1080x216 with 5 Axes>"
      ]
     },
     "metadata": {},
     "output_type": "display_data"
    }
   ],
   "source": [
    "plot_images(X.reshape((-1,  28, 28))[:5])"
   ]
  },
  {
   "cell_type": "code",
   "execution_count": 13,
   "id": "included-discretion",
   "metadata": {},
   "outputs": [],
   "source": [
    "np.random.seed(0)\n",
    "X_train, X_test, y_train, y_test = train_test_split(X, y, train_size=3000, test_size=1000)"
   ]
  },
  {
   "cell_type": "code",
   "execution_count": 14,
   "id": "extensive-contract",
   "metadata": {},
   "outputs": [
    {
     "name": "stdout",
     "output_type": "stream",
     "text": [
      "CPU times: user 46.9 s, sys: 1min 58s, total: 2min 44s\n",
      "Wall time: 11.2 s\n"
     ]
    },
    {
     "data": {
      "text/plain": [
       "0.954"
      ]
     },
     "execution_count": 14,
     "metadata": {},
     "output_type": "execute_result"
    }
   ],
   "source": [
    "%%time\n",
    "cls = HOSVDClassifier([2000]*3)\n",
    "cls.fit(X_train, y_train)\n",
    "cls.score(X_test, y_test)"
   ]
  },
  {
   "cell_type": "code",
   "execution_count": 15,
   "id": "bright-chick",
   "metadata": {
    "scrolled": false
   },
   "outputs": [
    {
     "data": {
      "image/png": "[encoded data removed]",
      "text/plain": [
       "<Figure size 1008x864 with 3 Axes>"
      ]
     },
     "metadata": {
      "needs_background": "light"
     },
     "output_type": "display_data"
    }
   ],
   "source": [
    "cls.plot_cuts()"
   ]
  }
 ],
 "metadata": {
  "kernelspec": {
   "display_name": "Python 3",
   "language": "python",
   "name": "python3"
  },
  "language_info": {
   "codemirror_mode": {
    "name": "ipython",
    "version": 3
   },
   "file_extension": ".py",
   "mimetype": "text/x-python",
   "name": "python",
   "nbconvert_exporter": "python",
   "pygments_lexer": "ipython3",
   "version": "3.9.1"
  }
 },
 "nbformat": 4,
 "nbformat_minor": 5
}
